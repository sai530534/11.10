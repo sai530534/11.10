{
 "cells": [
  {
   "cell_type": "markdown",
   "id": "4a0b5671",
   "metadata": {},
   "source": [
    "# Buy Please\n",
    "\n",
    "Chef went to a shop and buys a pens and b pencils. Each pen costs x units and each pencil costs y units. Now find what is the total amount Chef will spend to buy a pens and b pencils.\n",
    "Input:\n",
    "First-line will contain 4 space separated integers a, b, x and y respectively.\n",
    "Output:\n",
    "Print the answer in a new line.\n",
    "\n",
    "Constraints\n",
    "1≤a,b,x,y≤103\n",
    "Sample Input 1:\n",
    "2 4 4 5\n",
    "Sample Output 1:\n",
    "28"
   ]
  },
  {
   "cell_type": "code",
   "execution_count": 2,
   "id": "6475bc48",
   "metadata": {},
   "outputs": [
    {
     "name": "stdout",
     "output_type": "stream",
     "text": [
      "4 4 4 4\n",
      "32\n"
     ]
    }
   ],
   "source": [
    "a,b,x,y = map(int, input().split())\n",
    "ans = (a*x)+(b*y)\n",
    "\n",
    "print(ans) "
   ]
  },
  {
   "cell_type": "code",
   "execution_count": null,
   "id": "b528a60b",
   "metadata": {},
   "outputs": [],
   "source": []
  }
 ],
 "metadata": {
  "kernelspec": {
   "display_name": "Python 3 (ipykernel)",
   "language": "python",
   "name": "python3"
  },
  "language_info": {
   "codemirror_mode": {
    "name": "ipython",
    "version": 3
   },
   "file_extension": ".py",
   "mimetype": "text/x-python",
   "name": "python",
   "nbconvert_exporter": "python",
   "pygments_lexer": "ipython3",
   "version": "3.9.12"
  }
 },
 "nbformat": 4,
 "nbformat_minor": 5
}
