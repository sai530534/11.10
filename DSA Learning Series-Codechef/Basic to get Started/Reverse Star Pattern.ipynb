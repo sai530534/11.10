{
 "cells": [
  {
   "cell_type": "markdown",
   "id": "ab9442f9",
   "metadata": {},
   "source": [
    "# Reverse Star Pattern Problem Code: REVSTRPTSolvedSubmit\n",
    "You're given a number N. Print the first N lines of the below-given pattern.\n",
    "\n",
    "    *\n",
    "   **\n",
    "  ***\n",
    " ****\n",
    "*****\n",
    "Input:\n",
    "First-line will contain the number N.\n",
    "Output:\n",
    "Print the first N lines of the given pattern.\n",
    "\n",
    "Constraints\n",
    "1≤N≤200\n",
    "Sample Input 1:\n",
    "4\n",
    "Sample Output 1:\n",
    "   *\n",
    "  **\n",
    " ***\n",
    "****\n",
    "Sample Input 2:\n",
    "2\n",
    "Sample Output 2:\n",
    " *\n",
    "**\n"
   ]
  },
  {
   "cell_type": "code",
   "execution_count": 1,
   "id": "c3a016b5",
   "metadata": {},
   "outputs": [
    {
     "name": "stdout",
     "output_type": "stream",
     "text": [
      "5\n",
      "    *\n",
      "   **\n",
      "  ***\n",
      " ****\n",
      "*****\n"
     ]
    }
   ],
   "source": [
    "N = int(input())\n",
    "for i in range(1,N+1):\n",
    "    print(\" \"*(N-i)+\"*\"*i)"
   ]
  },
  {
   "cell_type": "code",
   "execution_count": null,
   "id": "530d12aa",
   "metadata": {},
   "outputs": [],
   "source": []
  }
 ],
 "metadata": {
  "kernelspec": {
   "display_name": "Python 3 (ipykernel)",
   "language": "python",
   "name": "python3"
  },
  "language_info": {
   "codemirror_mode": {
    "name": "ipython",
    "version": 3
   },
   "file_extension": ".py",
   "mimetype": "text/x-python",
   "name": "python",
   "nbconvert_exporter": "python",
   "pygments_lexer": "ipython3",
   "version": "3.9.12"
  }
 },
 "nbformat": 4,
 "nbformat_minor": 5
}
