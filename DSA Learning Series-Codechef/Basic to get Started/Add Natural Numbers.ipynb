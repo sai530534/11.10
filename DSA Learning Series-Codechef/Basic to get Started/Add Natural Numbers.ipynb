{
 "cells": [
  {
   "cell_type": "markdown",
   "id": "ea5d8219",
   "metadata": {},
   "source": [
    "# Add Natural Numbers Problem Code: ADDNATRL\n",
    "\n",
    "You are given a number N. Find the sum of all numbers from 1 to N.\n",
    "\n",
    "Input:\n",
    "First-line will contain the number N.\n",
    "Output:\n",
    "Print the answer in a single line.\n",
    "\n",
    "Constraints\n",
    "1≤N≤109\n",
    "Sample Input 1:\n",
    "4\n",
    "Sample Output 1:\n",
    "10\n",
    "Sample Input 2:\n",
    "8\n",
    "Sample Output 2:\n",
    "36"
   ]
  },
  {
   "cell_type": "code",
   "execution_count": 1,
   "id": "305ff201",
   "metadata": {},
   "outputs": [
    {
     "name": "stdout",
     "output_type": "stream",
     "text": [
      "10\n",
      "55\n"
     ]
    }
   ],
   "source": [
    "N = int(input())\n",
    "a = N*(N+1)//2\n",
    "print(a)"
   ]
  },
  {
   "cell_type": "code",
   "execution_count": null,
   "id": "db33cc2b",
   "metadata": {},
   "outputs": [],
   "source": []
  }
 ],
 "metadata": {
  "kernelspec": {
   "display_name": "Python 3 (ipykernel)",
   "language": "python",
   "name": "python3"
  },
  "language_info": {
   "codemirror_mode": {
    "name": "ipython",
    "version": 3
   },
   "file_extension": ".py",
   "mimetype": "text/x-python",
   "name": "python",
   "nbconvert_exporter": "python",
   "pygments_lexer": "ipython3",
   "version": "3.9.12"
  }
 },
 "nbformat": 4,
 "nbformat_minor": 5
}
