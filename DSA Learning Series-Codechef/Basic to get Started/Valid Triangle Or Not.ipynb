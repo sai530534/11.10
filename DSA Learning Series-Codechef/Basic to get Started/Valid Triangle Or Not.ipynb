{
 "cells": [
  {
   "cell_type": "markdown",
   "id": "6c80ae68",
   "metadata": {},
   "source": [
    "# Valid Triangle Or Not Problem Code: TRIVALCHSolvedSubmit\n",
    "You're given the length of three sides a, b, and c respectively. Now check if these three sides can form a triangle or not. Print \"YES\"(without quotes) if it can form a valid triangle with an area greater than 0, otherwise print \"NO\" (without quotes).\n",
    "\n",
    "Input:\n",
    "First-line will contain three numbers a, b, and c separated by space.\n",
    "Output:\n",
    "Print \"YES\"(without quotes) if these sides can form a valid triangle, otherwise print \"NO\" (without quotes).\n",
    "\n",
    "Constraints\n",
    "1≤a,b,c≤106\n",
    "Sample Input 1:\n",
    "2 4 3\n",
    "Sample Output 1:\n",
    "YES\n",
    "Sample Input 2:\n",
    "1 1 4\n",
    "Sample Output 2:\n",
    "NO"
   ]
  },
  {
   "cell_type": "code",
   "execution_count": 3,
   "id": "eef6a3ad",
   "metadata": {},
   "outputs": [
    {
     "name": "stdout",
     "output_type": "stream",
     "text": [
      "1 1 4\n",
      "NO\n"
     ]
    }
   ],
   "source": [
    "l = list(map(int,input().split()))\n",
    "a,b,c = sorted(l)\n",
    "\n",
    "s = (a+b+c)//2\n",
    "area = (s*(s-a)*(s-b)*(s-c))**0.5\n",
    "if (a+b>=c and b+c>=a and c+a>=b):\n",
    "    if area>0:\n",
    "        print(\"YES\")\n",
    "else:\n",
    "    print(\"NO\")\n"
   ]
  },
  {
   "cell_type": "code",
   "execution_count": null,
   "id": "492b4ac2",
   "metadata": {},
   "outputs": [],
   "source": []
  }
 ],
 "metadata": {
  "kernelspec": {
   "display_name": "Python 3 (ipykernel)",
   "language": "python",
   "name": "python3"
  },
  "language_info": {
   "codemirror_mode": {
    "name": "ipython",
    "version": 3
   },
   "file_extension": ".py",
   "mimetype": "text/x-python",
   "name": "python",
   "nbconvert_exporter": "python",
   "pygments_lexer": "ipython3",
   "version": "3.9.12"
  }
 },
 "nbformat": 4,
 "nbformat_minor": 5
}
