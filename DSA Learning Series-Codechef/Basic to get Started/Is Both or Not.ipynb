{
 "cells": [
  {
   "cell_type": "markdown",
   "id": "c5e37419",
   "metadata": {},
   "source": [
    "# Is Both or Not\n",
    "\n",
    "You're given a number N. If N is divisible by 5 or 11 but not both then print \"ONE\"(without quotes). If N is divisible by both 5 and 11 then print \"BOTH\"(without quotes). If N is not divisible by 5 or 11 then print \"NONE\"(without quotes).\n",
    "\n",
    "Input:\n",
    "First-line will contain the number N.\n",
    "Output:\n",
    "Print the answer in a newline.\n",
    "\n",
    "Constraints\n",
    "1≤N≤103\n",
    "Sample Input 1:\n",
    "50\n",
    "Sample Output 1:\n",
    "ONE\n",
    "Sample Input 2:\n",
    "110\n",
    "Sample Output 2:\n",
    "BOTH\n",
    "Sample Input 2:\n",
    "16\n",
    "Sample Output 2:\n",
    "NONE"
   ]
  },
  {
   "cell_type": "code",
   "execution_count": 1,
   "id": "d77c3c5a",
   "metadata": {},
   "outputs": [
    {
     "name": "stdout",
     "output_type": "stream",
     "text": [
      "55\n",
      "BOTH\n"
     ]
    }
   ],
   "source": [
    "N = int(input()) \n",
    "if (N%5==0 and N%11 !=0) or (N%5!=0 and N%11==0):\n",
    "    print(\"ONE\")\n",
    "elif (N%5==0 and N%11==0):\n",
    "    print(\"BOTH\")\n",
    "else :\n",
    "    print(\"NONE\")"
   ]
  }
 ],
 "metadata": {
  "kernelspec": {
   "display_name": "Python 3 (ipykernel)",
   "language": "python",
   "name": "python3"
  },
  "language_info": {
   "codemirror_mode": {
    "name": "ipython",
    "version": 3
   },
   "file_extension": ".py",
   "mimetype": "text/x-python",
   "name": "python",
   "nbconvert_exporter": "python",
   "pygments_lexer": "ipython3",
   "version": "3.9.12"
  }
 },
 "nbformat": 4,
 "nbformat_minor": 5
}
