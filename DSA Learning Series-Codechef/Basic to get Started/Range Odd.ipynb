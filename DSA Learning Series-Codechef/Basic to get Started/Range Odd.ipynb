{
 "cells": [
  {
   "cell_type": "markdown",
   "id": "4c7d1cd4",
   "metadata": {},
   "source": [
    "# Range Odd Problem Code: RNGEODD\n",
    "\n",
    "You're given two numbers L and R. Print all odd numbers between L and R (both inclusive) in a single line separated by space, in ascending (increasing) order.\n",
    "\n",
    "Input:\n",
    "First-line will contain two numbers L and R.\n",
    "Output:\n",
    "Print all odd numbers in a single line separated by space, in ascending (increasing) order.\n",
    "\n",
    "Constraints\n",
    "1≤L<R≤106\n",
    "Sample Input 1:\n",
    "2 9\n",
    "Sample Output 1:\n",
    "3 5 7 9\n",
    "Sample Input 2:\n",
    "3 4\n",
    "Sample Output 2:\n",
    "3\n"
   ]
  },
  {
   "cell_type": "code",
   "execution_count": 2,
   "id": "c8a3c0f2",
   "metadata": {},
   "outputs": [
    {
     "name": "stdout",
     "output_type": "stream",
     "text": [
      "10 11\n",
      "11 "
     ]
    }
   ],
   "source": [
    "\n",
    "\n",
    "L,R = map(int,input().split())\n",
    "for i in range(L,R+1):\n",
    "    if i%2 != 0:\n",
    "        print(i,end=\" \")\n"
   ]
  }
 ],
 "metadata": {
  "kernelspec": {
   "display_name": "Python 3 (ipykernel)",
   "language": "python",
   "name": "python3"
  },
  "language_info": {
   "codemirror_mode": {
    "name": "ipython",
    "version": 3
   },
   "file_extension": ".py",
   "mimetype": "text/x-python",
   "name": "python",
   "nbconvert_exporter": "python",
   "pygments_lexer": "ipython3",
   "version": "3.9.12"
  }
 },
 "nbformat": 4,
 "nbformat_minor": 5
}
