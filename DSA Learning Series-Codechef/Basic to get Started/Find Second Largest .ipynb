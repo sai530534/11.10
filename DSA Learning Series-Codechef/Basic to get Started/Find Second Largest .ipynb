{
 "cells": [
  {
   "cell_type": "markdown",
   "id": "19b8980a",
   "metadata": {},
   "source": [
    "# Find Second Largest Problem Code: SECLAR\n",
    "\n",
    "Given three distinct integers A, B and C, print the second largest number among them.\n",
    "\n",
    "Input:\n",
    "The input consists of three lines.\n",
    "The first line contains a single integer A.\n",
    "The second line contains a single integer B.\n",
    "The third line contains a single integer C.\n",
    "Output:\n",
    "Print the second largest number among A, B and C, in a separate line.\n",
    "\n",
    "Sample Input 1:\n",
    "2\n",
    "7\n",
    "21\n",
    "Sample Output 1:\n",
    "7\n",
    "Sample Input 2:\n",
    "14\n",
    "28\n",
    "16\n",
    "Sample Output 2:\n",
    "16"
   ]
  },
  {
   "cell_type": "code",
   "execution_count": 2,
   "id": "6e5ff43d",
   "metadata": {},
   "outputs": [
    {
     "name": "stdout",
     "output_type": "stream",
     "text": [
      "2\n",
      "7\n",
      "21\n",
      "7\n"
     ]
    }
   ],
   "source": [
    "\n",
    "l = []\n",
    "for i in range(3):\n",
    "    l.append(int(input()))\n",
    "l = sorted(l)\n",
    "print(l[1])\n",
    "    "
   ]
  },
  {
   "cell_type": "code",
   "execution_count": null,
   "id": "f53941cd",
   "metadata": {},
   "outputs": [],
   "source": []
  }
 ],
 "metadata": {
  "kernelspec": {
   "display_name": "Python 3 (ipykernel)",
   "language": "python",
   "name": "python3"
  },
  "language_info": {
   "codemirror_mode": {
    "name": "ipython",
    "version": 3
   },
   "file_extension": ".py",
   "mimetype": "text/x-python",
   "name": "python",
   "nbconvert_exporter": "python",
   "pygments_lexer": "ipython3",
   "version": "3.9.12"
  }
 },
 "nbformat": 4,
 "nbformat_minor": 5
}
