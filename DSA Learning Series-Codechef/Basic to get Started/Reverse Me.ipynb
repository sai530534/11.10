{
 "cells": [
  {
   "cell_type": "markdown",
   "id": "8aa0b56a",
   "metadata": {},
   "source": [
    "# Reverse Me Problem Code: REVMEE\n",
   
    "You are given a list of N integers and you need to reverse it and print the reversed list in a new line.\n",
    "\n",
    "Input:\n",
    "First-line will contain the number N.\n",
    "Second line will contain N space-separated integers.\n",
    "Output:\n",
    "Print the reversed list in a single line.\n",
    "\n",
    "Constraints\n",
    "1≤N,Ai≤105\n",
    "Sample Input 1:\n",
    "4\n",
    "1 3 2 4\n",
    "Sample Output 1:\n",
    "4 2 3 1\n",
    "Sample Input 2:\n",
    "2\n",
    "9 8\n",
    "Sample Output 2:\n",
    "8 9"
   ]
  },
  {
   "cell_type": "code",
   "execution_count": 2,
   "id": "579ac060",
   "metadata": {},
   "outputs": [
    {
     "name": "stdout",
     "output_type": "stream",
     "text": [
      "4\n",
      "1 3 2 4 \n",
      "4 2 3 1 "
     ]
    }
   ],
   "source": [
    "N = int(input())\n",
    "l = list(map(int, input().split()))\n",
    "l = l[::-1]\n",
    "for i in l:\n",
    "    print(i,end=\" \")\n",
    "    "
   ]
  }
 ],
 "metadata": {
  "kernelspec": {
   "display_name": "Python 3 (ipykernel)",
   "language": "python",
   "name": "python3"
  },
  "language_info": {
   "codemirror_mode": {
    "name": "ipython",
    "version": 3
   },
   "file_extension": ".py",
   "mimetype": "text/x-python",
   "name": "python",
   "nbconvert_exporter": "python",
   "pygments_lexer": "ipython3",
   "version": "3.9.12"
  }
 },
 "nbformat": 4,
 "nbformat_minor": 5
}
