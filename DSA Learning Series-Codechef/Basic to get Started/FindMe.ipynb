{
 "cells": [
  {
   "cell_type": "markdown",
   "id": "17812e17",
   "metadata": {},
   "source": [
    "# Find Me Problem Code: FINDMELI\n",
    "\n",
    "You are given a list of N integers and a value K. Print 1 if K exists in the given list of N integers, otherwise print −1.\n",
    "\n",
    "Input:\n",
    "First-line will contain two numbers N and K.\n",
    "Next line contains N space-separated numbers.\n",
    "Output:\n",
    "Print the answer in a new line.\n",
    "\n",
    "Constraints\n",
    "1≤N,K,Ai≤105\n",
    "Sample Input 1:\n",
    "4 2\n",
    "1 2 3 4\n",
    "Sample Output 1:\n",
    "1\n",
    "Sample Input 2:\n",
    "4 4\n",
    "1 2 6 9\n",
    "Sample Output 2:\n",
    "-1"
   ]
  },
  {
   "cell_type": "code",
   "execution_count": 1,
   "id": "36b55b02",
   "metadata": {},
   "outputs": [
    {
     "name": "stdout",
     "output_type": "stream",
     "text": [
      "4 2 \n",
      "1 2 3 4\n",
      "1\n"
     ]
    }
   ],
   "source": [
    "N,K = map(int,input().split())\n",
    "l = list(map(int,input().split()))\n",
    "if K in l:\n",
    "    print(1)\n",
    "else:\n",
    "    print(-1)\n"
   ]
  },
  {
   "cell_type": "code",
   "execution_count": null,
   "id": "a01735eb",
   "metadata": {},
   "outputs": [],
   "source": []
  }
 ],
 "metadata": {
  "kernelspec": {
   "display_name": "Python 3 (ipykernel)",
   "language": "python",
   "name": "python3"
  },
  "language_info": {
   "codemirror_mode": {
    "name": "ipython",
    "version": 3
   },
   "file_extension": ".py",
   "mimetype": "text/x-python",
   "name": "python",
   "nbconvert_exporter": "python",
   "pygments_lexer": "ipython3",
   "version": "3.9.12"
  }
 },
 "nbformat": 4,
 "nbformat_minor": 5
}
